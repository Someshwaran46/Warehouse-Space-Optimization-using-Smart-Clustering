{
 "cells": [
  {
   "cell_type": "markdown",
   "metadata": {},
   "source": [
    "### Importing the Libraries and Modules"
   ]
  },
  {
   "cell_type": "code",
   "execution_count": 1,
   "metadata": {},
   "outputs": [],
   "source": [
    "import pandas as pd\n",
    "import seaborn as sns\n",
    "import matplotlib.pyplot as plt"
   ]
  },
  {
   "cell_type": "markdown",
   "metadata": {},
   "source": [
    "### Loading the Dataset"
   ]
  },
  {
   "cell_type": "code",
   "execution_count": 2,
   "metadata": {},
   "outputs": [
    {
     "data": {
      "text/html": [
       "<div>\n",
       "<style scoped>\n",
       "    .dataframe tbody tr th:only-of-type {\n",
       "        vertical-align: middle;\n",
       "    }\n",
       "\n",
       "    .dataframe tbody tr th {\n",
       "        vertical-align: top;\n",
       "    }\n",
       "\n",
       "    .dataframe thead th {\n",
       "        text-align: right;\n",
       "    }\n",
       "</style>\n",
       "<table border=\"1\" class=\"dataframe\">\n",
       "  <thead>\n",
       "    <tr style=\"text-align: right;\">\n",
       "      <th></th>\n",
       "      <th>Product ID</th>\n",
       "      <th>Height (cm)</th>\n",
       "      <th>Width (cm)</th>\n",
       "      <th>Depth (cm)</th>\n",
       "      <th>Avg Daily Demand</th>\n",
       "      <th>Product Category</th>\n",
       "      <th>Score</th>\n",
       "    </tr>\n",
       "  </thead>\n",
       "  <tbody>\n",
       "    <tr>\n",
       "      <th>0</th>\n",
       "      <td>P20106</td>\n",
       "      <td>35.436002</td>\n",
       "      <td>22.622569</td>\n",
       "      <td>33.657885</td>\n",
       "      <td>49.123508</td>\n",
       "      <td>Electronics</td>\n",
       "      <td>6.697377</td>\n",
       "    </tr>\n",
       "    <tr>\n",
       "      <th>1</th>\n",
       "      <td>P41070</td>\n",
       "      <td>28.556396</td>\n",
       "      <td>24.461528</td>\n",
       "      <td>44.912779</td>\n",
       "      <td>16.094638</td>\n",
       "      <td>Electronics</td>\n",
       "      <td>86.751324</td>\n",
       "    </tr>\n",
       "    <tr>\n",
       "      <th>2</th>\n",
       "      <td>P29033</td>\n",
       "      <td>28.387143</td>\n",
       "      <td>16.138052</td>\n",
       "      <td>18.433578</td>\n",
       "      <td>17.235752</td>\n",
       "      <td>Food</td>\n",
       "      <td>39.181937</td>\n",
       "    </tr>\n",
       "    <tr>\n",
       "      <th>3</th>\n",
       "      <td>P47714</td>\n",
       "      <td>23.283766</td>\n",
       "      <td>24.277033</td>\n",
       "      <td>26.857256</td>\n",
       "      <td>6.472163</td>\n",
       "      <td>Clothing</td>\n",
       "      <td>36.539454</td>\n",
       "    </tr>\n",
       "    <tr>\n",
       "      <th>4</th>\n",
       "      <td>P14692</td>\n",
       "      <td>9.607678</td>\n",
       "      <td>23.973594</td>\n",
       "      <td>37.116032</td>\n",
       "      <td>15.737616</td>\n",
       "      <td>Food</td>\n",
       "      <td>54.279738</td>\n",
       "    </tr>\n",
       "  </tbody>\n",
       "</table>\n",
       "</div>"
      ],
      "text/plain": [
       "  Product ID  Height (cm)  Width (cm)  Depth (cm)  Avg Daily Demand  \\\n",
       "0     P20106    35.436002   22.622569   33.657885         49.123508   \n",
       "1     P41070    28.556396   24.461528   44.912779         16.094638   \n",
       "2     P29033    28.387143   16.138052   18.433578         17.235752   \n",
       "3     P47714    23.283766   24.277033   26.857256          6.472163   \n",
       "4     P14692     9.607678   23.973594   37.116032         15.737616   \n",
       "\n",
       "  Product Category      Score  \n",
       "0      Electronics   6.697377  \n",
       "1      Electronics  86.751324  \n",
       "2             Food  39.181937  \n",
       "3         Clothing  36.539454  \n",
       "4             Food  54.279738  "
      ]
     },
     "execution_count": 2,
     "metadata": {},
     "output_type": "execute_result"
    }
   ],
   "source": [
    "df = pd.read_csv(\"/Users/somesh-19583/Desktop/Warehouse/Source Data.csv\")\n",
    "df.head(5)"
   ]
  },
  {
   "cell_type": "markdown",
   "metadata": {},
   "source": [
    "### Understanding the data"
   ]
  },
  {
   "cell_type": "code",
   "execution_count": 3,
   "metadata": {},
   "outputs": [
    {
     "data": {
      "text/plain": [
       "(1500, 7)"
      ]
     },
     "execution_count": 3,
     "metadata": {},
     "output_type": "execute_result"
    }
   ],
   "source": [
    "df.shape"
   ]
  },
  {
   "cell_type": "code",
   "execution_count": 4,
   "metadata": {},
   "outputs": [
    {
     "data": {
      "text/plain": [
       "Index(['Product ID', 'Height (cm)', 'Width (cm)', 'Depth (cm)',\n",
       "       'Avg Daily Demand', 'Product Category', 'Score'],\n",
       "      dtype='object')"
      ]
     },
     "execution_count": 4,
     "metadata": {},
     "output_type": "execute_result"
    }
   ],
   "source": [
    "df.columns"
   ]
  },
  {
   "cell_type": "code",
   "execution_count": 5,
   "metadata": {},
   "outputs": [
    {
     "name": "stdout",
     "output_type": "stream",
     "text": [
      "Unique values in column 'Product ID': ['P20106' 'P41070' 'P29033' ... 'P94537' 'P13285' 'P74710']\n",
      "Unique values in column 'Height (cm)': [35.43600155 28.55639588 28.38714288 ... 23.96014813 35.93101258\n",
      " 34.92451264]\n",
      "Unique values in column 'Width (cm)': [22.62256938 24.46152849 16.13805182 ... 21.24152547 21.51764934\n",
      " 28.77722169]\n",
      "Unique values in column 'Depth (cm)': [33.6578847  44.91277935 18.43357777 ... 24.67756979 32.849773\n",
      " 32.45406721]\n",
      "Unique values in column 'Avg Daily Demand': [ 49.12350782  16.09463812  17.2357522  ...  44.39963113   5.39719143\n",
      " 100.2457902 ]\n",
      "Unique values in column 'Product Category': ['Electronics' 'Food' 'Clothing' 'Toys' 'Furniture']\n",
      "Unique values in column 'Score': [ 6.69737661 86.75132427 39.18193732 ... 34.2018825  16.43990227\n",
      " 28.41628057]\n"
     ]
    }
   ],
   "source": [
    "col = list(df.columns)\n",
    "for c in col:\n",
    "    print(f\"Unique values in column '{c}':\", df[c].unique())\n"
   ]
  },
  {
   "cell_type": "code",
   "execution_count": 6,
   "metadata": {},
   "outputs": [
    {
     "data": {
      "text/plain": [
       "Product ID           object\n",
       "Height (cm)         float64\n",
       "Width (cm)          float64\n",
       "Depth (cm)          float64\n",
       "Avg Daily Demand    float64\n",
       "Product Category     object\n",
       "Score               float64\n",
       "dtype: object"
      ]
     },
     "execution_count": 6,
     "metadata": {},
     "output_type": "execute_result"
    }
   ],
   "source": [
    "df.dtypes"
   ]
  },
  {
   "cell_type": "code",
   "execution_count": 7,
   "metadata": {},
   "outputs": [
    {
     "data": {
      "text/plain": [
       "Product ID           0\n",
       "Height (cm)         45\n",
       "Width (cm)          45\n",
       "Depth (cm)          45\n",
       "Avg Daily Demand    45\n",
       "Product Category     0\n",
       "Score                0\n",
       "dtype: int64"
      ]
     },
     "execution_count": 7,
     "metadata": {},
     "output_type": "execute_result"
    }
   ],
   "source": [
    "df.isnull().sum()"
   ]
  },
  {
   "cell_type": "code",
   "execution_count": 8,
   "metadata": {},
   "outputs": [
    {
     "data": {
      "text/plain": [
       "np.int64(0)"
      ]
     },
     "execution_count": 8,
     "metadata": {},
     "output_type": "execute_result"
    }
   ],
   "source": [
    "df.duplicated().sum()"
   ]
  },
  {
   "cell_type": "markdown",
   "metadata": {},
   "source": [
    "### Handling the Missing Values"
   ]
  },
  {
   "cell_type": "code",
   "execution_count": 9,
   "metadata": {},
   "outputs": [],
   "source": [
    "# List of float columns with missing data\n",
    "float_cols = ['Height (cm)', 'Width (cm)', 'Depth (cm)', 'Avg Daily Demand']\n",
    "\n",
    "# Fill missing values in float columns with the mean of each Product Category\n",
    "df[float_cols] = df.groupby('Product Category')[float_cols].transform(\n",
    "    lambda x: x.fillna(x.mean())\n",
    ")\n"
   ]
  },
  {
   "cell_type": "markdown",
   "metadata": {},
   "source": [
    "🔍 Explanation:\n",
    "groupby('Product Category') groups the data by each category.\n",
    "\n",
    ".transform(lambda x: x.fillna(x.mean())) replaces NaN with the mean within each group.\n",
    "\n",
    "It works for multiple columns at once when applied to a DataFrame slice (df[float_cols])."
   ]
  },
  {
   "cell_type": "code",
   "execution_count": 10,
   "metadata": {},
   "outputs": [
    {
     "data": {
      "text/plain": [
       "Product ID          0\n",
       "Height (cm)         0\n",
       "Width (cm)          0\n",
       "Depth (cm)          0\n",
       "Avg Daily Demand    0\n",
       "Product Category    0\n",
       "Score               0\n",
       "dtype: int64"
      ]
     },
     "execution_count": 10,
     "metadata": {},
     "output_type": "execute_result"
    }
   ],
   "source": [
    "df.isnull().sum()"
   ]
  },
  {
   "cell_type": "markdown",
   "metadata": {},
   "source": [
    "### Generating Summary Statistics"
   ]
  },
  {
   "cell_type": "code",
   "execution_count": 11,
   "metadata": {},
   "outputs": [
    {
     "data": {
      "text/html": [
       "<div>\n",
       "<style scoped>\n",
       "    .dataframe tbody tr th:only-of-type {\n",
       "        vertical-align: middle;\n",
       "    }\n",
       "\n",
       "    .dataframe tbody tr th {\n",
       "        vertical-align: top;\n",
       "    }\n",
       "\n",
       "    .dataframe thead th {\n",
       "        text-align: right;\n",
       "    }\n",
       "</style>\n",
       "<table border=\"1\" class=\"dataframe\">\n",
       "  <thead>\n",
       "    <tr style=\"text-align: right;\">\n",
       "      <th></th>\n",
       "      <th>Height (cm)</th>\n",
       "      <th>Width (cm)</th>\n",
       "      <th>Depth (cm)</th>\n",
       "      <th>Avg Daily Demand</th>\n",
       "      <th>Score</th>\n",
       "    </tr>\n",
       "  </thead>\n",
       "  <tbody>\n",
       "    <tr>\n",
       "      <th>count</th>\n",
       "      <td>1500.000000</td>\n",
       "      <td>1500.000000</td>\n",
       "      <td>1500.000000</td>\n",
       "      <td>1500.000000</td>\n",
       "      <td>1500.000000</td>\n",
       "    </tr>\n",
       "    <tr>\n",
       "      <th>mean</th>\n",
       "      <td>30.796467</td>\n",
       "      <td>20.068831</td>\n",
       "      <td>24.669364</td>\n",
       "      <td>51.293451</td>\n",
       "      <td>50.251611</td>\n",
       "    </tr>\n",
       "    <tr>\n",
       "      <th>std</th>\n",
       "      <td>10.270986</td>\n",
       "      <td>7.784547</td>\n",
       "      <td>9.011673</td>\n",
       "      <td>29.409824</td>\n",
       "      <td>28.342403</td>\n",
       "    </tr>\n",
       "    <tr>\n",
       "      <th>min</th>\n",
       "      <td>-2.412673</td>\n",
       "      <td>-4.156097</td>\n",
       "      <td>-2.068691</td>\n",
       "      <td>0.002902</td>\n",
       "      <td>0.017552</td>\n",
       "    </tr>\n",
       "    <tr>\n",
       "      <th>25%</th>\n",
       "      <td>23.991791</td>\n",
       "      <td>15.052393</td>\n",
       "      <td>18.590330</td>\n",
       "      <td>30.864887</td>\n",
       "      <td>26.442748</td>\n",
       "    </tr>\n",
       "    <tr>\n",
       "      <th>50%</th>\n",
       "      <td>30.759050</td>\n",
       "      <td>19.951531</td>\n",
       "      <td>24.860655</td>\n",
       "      <td>50.413994</td>\n",
       "      <td>50.223098</td>\n",
       "    </tr>\n",
       "    <tr>\n",
       "      <th>75%</th>\n",
       "      <td>36.755961</td>\n",
       "      <td>25.088610</td>\n",
       "      <td>30.339684</td>\n",
       "      <td>69.089210</td>\n",
       "      <td>73.782073</td>\n",
       "    </tr>\n",
       "    <tr>\n",
       "      <th>max</th>\n",
       "      <td>70.190101</td>\n",
       "      <td>51.409902</td>\n",
       "      <td>54.187837</td>\n",
       "      <td>188.554577</td>\n",
       "      <td>99.736618</td>\n",
       "    </tr>\n",
       "  </tbody>\n",
       "</table>\n",
       "</div>"
      ],
      "text/plain": [
       "       Height (cm)   Width (cm)   Depth (cm)  Avg Daily Demand        Score\n",
       "count  1500.000000  1500.000000  1500.000000       1500.000000  1500.000000\n",
       "mean     30.796467    20.068831    24.669364         51.293451    50.251611\n",
       "std      10.270986     7.784547     9.011673         29.409824    28.342403\n",
       "min      -2.412673    -4.156097    -2.068691          0.002902     0.017552\n",
       "25%      23.991791    15.052393    18.590330         30.864887    26.442748\n",
       "50%      30.759050    19.951531    24.860655         50.413994    50.223098\n",
       "75%      36.755961    25.088610    30.339684         69.089210    73.782073\n",
       "max      70.190101    51.409902    54.187837        188.554577    99.736618"
      ]
     },
     "execution_count": 11,
     "metadata": {},
     "output_type": "execute_result"
    }
   ],
   "source": [
    "df.describe()"
   ]
  },
  {
   "cell_type": "markdown",
   "metadata": {},
   "source": [
    "### Storing the Cleaned Data in a csv"
   ]
  },
  {
   "cell_type": "code",
   "execution_count": 12,
   "metadata": {},
   "outputs": [
    {
     "name": "stdout",
     "output_type": "stream",
     "text": [
      "The Data saved Successfully in a CSV File!!!\n"
     ]
    }
   ],
   "source": [
    "df.to_csv(\"/Users/somesh-19583/Desktop/Warehouse/Cleaned Data.csv\",index=False)\n",
    "print(\"The Data saved Successfully in a CSV File!!!\")"
   ]
  }
 ],
 "metadata": {
  "kernelspec": {
   "display_name": "Python 3",
   "language": "python",
   "name": "python3"
  },
  "language_info": {
   "codemirror_mode": {
    "name": "ipython",
    "version": 3
   },
   "file_extension": ".py",
   "mimetype": "text/x-python",
   "name": "python",
   "nbconvert_exporter": "python",
   "pygments_lexer": "ipython3",
   "version": "3.12.2"
  }
 },
 "nbformat": 4,
 "nbformat_minor": 2
}
